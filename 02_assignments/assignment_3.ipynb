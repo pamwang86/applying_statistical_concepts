{
 "cells": [
  {
   "cell_type": "markdown",
   "id": "7b0bcac6-5086-4f4e-928a-570a9ff7ae58",
   "metadata": {},
   "source": [
    "# Assignment 3"
   ]
  },
  {
   "cell_type": "markdown",
   "id": "5fce0350-2a17-4e93-8d4c-0b8748fdfc32",
   "metadata": {},
   "source": [
    "As before, if a question can be answered with 'yes/no', or a numeric value, you may simply state as much. If you incorporate code from the internet (which is not required and generally not advisable), please cite the source within your code (providing a URL is sufficient).\n",
    "\n",
    "We will go through comparable code and concepts in the live learning session. If you run into trouble, start by using the help `help()` function in Python, to get information about the datasets and function in question. The internet is also a great resource when coding (though note that no outside searches are required by the assignment!). If you do incorporate code from the internet, please cite the source within your code (providing a URL is sufficient).\n",
    "\n",
    "Please bring questions that you cannot work out on your own to office hours, work periods or share with your peers on Slack. We will work with you through the issue."
   ]
  },
  {
   "cell_type": "code",
   "execution_count": 1,
   "id": "b92f7c91",
   "metadata": {},
   "outputs": [],
   "source": [
    "import numpy as np\n",
    "import pandas as pd\n",
    "import matplotlib.pyplot as plt\n",
    "import statsmodels.api as sm"
   ]
  },
  {
   "cell_type": "markdown",
   "id": "d7fff1dd-e4ce-4a60-96a0-d08136e9bf5e",
   "metadata": {},
   "source": [
    "### Question 1: Resampling via Bootstrapping\n",
    "\n",
    "Now, we'll use the `iris` dataset, which we will add to Python using the `statsmodels` library. As always, start by reviewing a description of the dataset, by printing the dataset."
   ]
  },
  {
   "cell_type": "code",
   "execution_count": 2,
   "id": "47f4dcf5-0d4c-41ea-892d-d9f2c1aa1859",
   "metadata": {},
   "outputs": [],
   "source": [
    "# Import\n",
    "iris = sm.datasets.get_rdataset('iris', 'datasets')\n",
    "df = pd.DataFrame(iris.data)"
   ]
  },
  {
   "cell_type": "markdown",
   "id": "7717a32c",
   "metadata": {},
   "source": [
    "_(i)_ Create an `alpha_func(D, idx)` function which takes the `Sepal`'s `width` and `length` to calculate for alpha"
   ]
  },
  {
   "cell_type": "code",
   "execution_count": 3,
   "id": "f3da5483",
   "metadata": {},
   "outputs": [],
   "source": [
    "# Your code here\n",
    "def alpha_func(D, idx):\n",
    "    sepal_width = D.loc[idx, 'Sepal.Width']\n",
    "    sepal_length = D.loc[idx, 'Sepal.Length']\n",
    "    \n",
    "    alpha = sepal_width / (sepal_length ** 2)\n",
    "    \n",
    "    return alpha"
   ]
  },
  {
   "cell_type": "markdown",
   "id": "ff94d66b",
   "metadata": {},
   "source": [
    "Test the code below"
   ]
  },
  {
   "cell_type": "code",
   "execution_count": 4,
   "id": "eda715cd",
   "metadata": {},
   "outputs": [
    {
     "data": {
      "text/plain": [
       "0     0.134564\n",
       "1     0.124948\n",
       "2     0.144862\n",
       "3     0.146503\n",
       "4     0.144000\n",
       "        ...   \n",
       "95    0.092336\n",
       "96    0.089258\n",
       "97    0.075442\n",
       "98    0.096117\n",
       "99    0.086180\n",
       "Length: 100, dtype: float64"
      ]
     },
     "execution_count": 4,
     "metadata": {},
     "output_type": "execute_result"
    }
   ],
   "source": [
    "alpha_func(df, range(100))"
   ]
  },
  {
   "cell_type": "markdown",
   "id": "f338b14e",
   "metadata": {},
   "source": [
    "_(ii)_ Construct a new bootstrap data set and recompute alpha"
   ]
  },
  {
   "cell_type": "code",
   "execution_count": 5,
   "id": "34ee835f",
   "metadata": {},
   "outputs": [
    {
     "data": {
      "text/plain": [
       "85    0.094444\n",
       "63    0.077936\n",
       "51    0.078125\n",
       "26    0.136000\n",
       "30    0.134549\n",
       "        ...   \n",
       "62    0.061111\n",
       "4     0.144000\n",
       "8     0.149793\n",
       "37    0.149938\n",
       "83    0.075000\n",
       "Length: 100, dtype: float64"
      ]
     },
     "execution_count": 5,
     "metadata": {},
     "output_type": "execute_result"
    }
   ],
   "source": [
    "rng = np.random.default_rng(0)\n",
    "alpha_func(df,\n",
    "           rng.choice(100,\n",
    "                      100,\n",
    "                      replace=True))"
   ]
  },
  {
   "cell_type": "markdown",
   "id": "056080ff-7aec-41aa-bb61-763b390e4cf2",
   "metadata": {},
   "source": [
    "Imagine we are analysts working for a shipping company. The company wants to know the average length of iris' petals, to inform space allotment on an upcoming shipment. The relevant variable in the dataset is `Sepal.Length`. \n",
    "\n",
    "_(iii)_ Why is it (perhaps) not sufficient to simply calculate the mean of `Sepal.Length`? What more information will preforming a bootstrap provide to us?  \n",
    "\n",
    "_(iv)_ We can perform bootstrapping in Python by defining a simple function using `boot_SE()` for computing the bootstrap standard error. Remember, because bootstrapping involves randomness, we must first set a seed for reproducibility!"
   ]
  },
  {
   "cell_type": "code",
   "execution_count": null,
   "id": "d2da65c6",
   "metadata": {},
   "outputs": [],
   "source": [
    "#(iii) Calculating the average length of iris' sepals gives us one number, but it might not show us all the ways the lengths could be different."
   ]
  },
  {
   "cell_type": "code",
   "execution_count": 7,
   "id": "77540f76-7747-4dba-8e77-e1ded54af536",
   "metadata": {},
   "outputs": [],
   "source": [
    "# Add your code here to set the seed\n",
    "def boot_SE(data, num_samples=1000, seed=0):\n",
    "    rng = np.random.default_rng(seed)\n",
    "    n = len(data)\n",
    "    means = np.zeros(num_samples)\n",
    "    \n",
    "    for i in range(num_samples):\n",
    "        sample = rng.choice(data, size=n, replace=True)\n",
    "        means[i] = np.mean(sample)\n",
    "        \n",
    "    boot_se = np.std(means, ddof=1)  # ddof=1 for sample standard deviation\n",
    "\n",
    "    return boot_se\n"
   ]
  },
  {
   "cell_type": "code",
   "execution_count": 8,
   "id": "39105053",
   "metadata": {},
   "outputs": [
    {
     "name": "stdout",
     "output_type": "stream",
     "text": [
      "Bootstrap Standard Error (SE) of Sepal.Length: 0.0665\n"
     ]
    }
   ],
   "source": [
    "# Set seed for reproducibility\n",
    "np.random.seed(0)\n",
    "\n",
    "# Compute bootstrap standard error for Sepal.Length\n",
    "sepal_length_data = df['Sepal.Length']\n",
    "bootstrap_se = boot_SE(sepal_length_data)\n",
    "\n",
    "print(f\"Bootstrap Standard Error (SE) of Sepal.Length: {bootstrap_se:.4f}\")"
   ]
  },
  {
   "cell_type": "markdown",
   "id": "8a543472",
   "metadata": {},
   "source": [
    "_(v)_ Evaluate the accuracy of our alpha estimate with B = 1000"
   ]
  },
  {
   "cell_type": "code",
   "execution_count": 9,
   "id": "9ed41c4e",
   "metadata": {},
   "outputs": [
    {
     "name": "stdout",
     "output_type": "stream",
     "text": [
      "Bootstrap Mean Alpha Estimate: 0.0955\n",
      "Bootstrap Standard Error (SE) of Alpha Estimate: 0.0026\n"
     ]
    }
   ],
   "source": [
    "# Your code here\n",
    "def bootstrap_alpha_estimate(D, B=1000, seed=0):\n",
    "    rng = np.random.default_rng(seed)\n",
    "    n = len(D)\n",
    "    alpha_estimates = np.zeros(B)\n",
    "    \n",
    "    for b in range(B):\n",
    "        bootstrap_indices = rng.choice(n, size=n, replace=True)\n",
    "        bootstrap_df = D.iloc[bootstrap_indices].reset_index(drop=True)\n",
    "        \n",
    "        # Calculate alpha for the bootstrap sample\n",
    "        alpha_estimate = alpha_func(bootstrap_df, range(len(bootstrap_df)))\n",
    "        alpha_estimates[b] = np.mean(alpha_estimate)\n",
    "    \n",
    "    alpha_mean = np.mean(alpha_estimates)\n",
    "    alpha_se = np.std(alpha_estimates, ddof=1)  # Standard error of the mean\n",
    "    \n",
    "    return alpha_mean, alpha_se\n",
    "\n",
    "# Set seed for reproducibility\n",
    "np.random.seed(0)\n",
    "\n",
    "# Compute alpha estimate with B = 1000\n",
    "alpha_mean, alpha_se = bootstrap_alpha_estimate(df, B=1000)\n",
    "\n",
    "print(f\"Bootstrap Mean Alpha Estimate: {alpha_mean:.4f}\")\n",
    "print(f\"Bootstrap Standard Error (SE) of Alpha Estimate: {alpha_se:.4f}\")"
   ]
  },
  {
   "cell_type": "markdown",
   "id": "2e5e0c7f",
   "metadata": {},
   "source": [
    "_(vi)_ What is the original mean value of `Sepal.Length`?"
   ]
  },
  {
   "cell_type": "code",
   "execution_count": 11,
   "id": "7c9d5004",
   "metadata": {},
   "outputs": [
    {
     "name": "stdout",
     "output_type": "stream",
     "text": [
      "The original mean value of Sepal.Length is: 5.8433\n"
     ]
    }
   ],
   "source": [
    "# Calculate the original mean value of Sepal.Length\n",
    "original_mean_sepal_length = df['Sepal.Length'].mean()\n",
    "\n",
    "print(f\"The original mean value of Sepal.Length is: {original_mean_sepal_length:.4f}\")\n"
   ]
  },
  {
   "cell_type": "markdown",
   "id": "785fe758-f395-40b6-a9a3-28ec2efeba29",
   "metadata": {},
   "source": [
    "Next, let's create a new bootstrapping to bootstrap samples (`boot_se_samples`) of `Sepal.Length`, in order to compute its bootstrapped mean and standard deviation.\n",
    "\n",
    "_(vii)_. Write code to review the bootstrapped mean value, and the standard deviation of the bootstrapped samples. Compare the mean against its original value. Then, review the bootstrapped range, by using `t_range = np.ptp(boot_se_samples)`."
   ]
  },
  {
   "cell_type": "code",
   "execution_count": 12,
   "id": "7686243c",
   "metadata": {},
   "outputs": [
    {
     "name": "stdout",
     "output_type": "stream",
     "text": [
      "Original Mean Sepal.Length: 5.8433\n",
      "Bootstrapped Mean Sepal.Length: 5.8423\n",
      "Bootstrapped Standard Deviation: 0.0665\n",
      "Bootstrapped Range (t_range): 0.3873\n"
     ]
    }
   ],
   "source": [
    "# Add your code here\n",
    "def bootstrap_sepal_length(df, B=1000, seed=0):\n",
    "    rng = np.random.default_rng(seed)\n",
    "    n = len(df)\n",
    "    boot_se_samples = np.zeros(B)\n",
    "    \n",
    "    for b in range(B):\n",
    "        bootstrap_indices = rng.choice(n, size=n, replace=True)\n",
    "        boot_se_samples[b] = np.mean(df.iloc[bootstrap_indices]['Sepal.Length'])\n",
    "    \n",
    "    boot_mean = np.mean(boot_se_samples)\n",
    "    boot_std = np.std(boot_se_samples, ddof=1)  # Sample standard deviation\n",
    "    \n",
    "    return boot_mean, boot_std, boot_se_samples\n",
    "\n",
    "# Set seed for reproducibility\n",
    "np.random.seed(0)\n",
    "\n",
    "# Perform bootstrapping for Sepal.Length\n",
    "boot_mean, boot_std, boot_se_samples = bootstrap_sepal_length(df)\n",
    "\n",
    "# Calculate original mean of Sepal.Length\n",
    "original_mean_sepal_length = df['Sepal.Length'].mean()\n",
    "\n",
    "# Calculate range of bootstrapped samples\n",
    "t_range = np.ptp(boot_se_samples)\n",
    "\n",
    "# Print results\n",
    "print(f\"Original Mean Sepal.Length: {original_mean_sepal_length:.4f}\")\n",
    "print(f\"Bootstrapped Mean Sepal.Length: {boot_mean:.4f}\")\n",
    "print(f\"Bootstrapped Standard Deviation: {boot_std:.4f}\")\n",
    "print(f\"Bootstrapped Range (t_range): {t_range:.4f}\")"
   ]
  },
  {
   "cell_type": "markdown",
   "id": "66c6c663-f3bb-4a15-8896-6dccfb7259fd",
   "metadata": {},
   "source": [
    "_(viii)_ Next, let's compute 95% confidence intervals, for the mean value of iris sepal length. (Hint: use the `np.percentile` function)"
   ]
  },
  {
   "cell_type": "code",
   "execution_count": 13,
   "id": "74de4a76-e500-4c93-82a9-e7365cc86c91",
   "metadata": {},
   "outputs": [],
   "source": [
    "# Add your code here\n",
    "# Function to compute 95% confidence interval\n",
    "def compute_confidence_interval(data, alpha=0.05):\n",
    "    lower_bound = np.percentile(data, 100 * (alpha / 2))\n",
    "    upper_bound = np.percentile(data, 100 * (1 - alpha / 2))\n",
    "    return lower_bound, upper_bound"
   ]
  },
  {
   "cell_type": "code",
   "execution_count": 14,
   "id": "ba8e5a38",
   "metadata": {},
   "outputs": [
    {
     "name": "stdout",
     "output_type": "stream",
     "text": [
      "Bootstrapped Mean Sepal.Length: 5.8423\n",
      "95% Confidence Interval: [5.7186, 5.9747]\n"
     ]
    }
   ],
   "source": [
    "# Set seed for reproducibility\n",
    "np.random.seed(0)\n",
    "\n",
    "# Perform bootstrapping for Sepal.Length\n",
    "boot_mean, boot_std, boot_se_samples = bootstrap_sepal_length(df)\n",
    "\n",
    "# Compute 95% confidence interval for the mean\n",
    "lower_bound, upper_bound = compute_confidence_interval(boot_se_samples, alpha=0.05)\n",
    "\n",
    "# Print results\n",
    "print(f\"Bootstrapped Mean Sepal.Length: {boot_mean:.4f}\")\n",
    "print(f\"95% Confidence Interval: [{lower_bound:.4f}, {upper_bound:.4f}]\")"
   ]
  },
  {
   "cell_type": "markdown",
   "id": "488e54f7-ebe4-4740-835c-9832320005d0",
   "metadata": {},
   "source": [
    "_(ix)_. Use the plot function to create an histogram of the bootstrapped samples. What does this histogram show ?"
   ]
  },
  {
   "cell_type": "code",
   "execution_count": 15,
   "id": "4fca4e3f",
   "metadata": {},
   "outputs": [
    {
     "data": {
      "image/png": "[encoded data removed]",
      "text/plain": [
       "<Figure size 640x480 with 1 Axes>"
      ]
     },
     "metadata": {},
     "output_type": "display_data"
    }
   ],
   "source": [
    "#Complete this\n",
    "\n",
    "# Create a figure and axis\n",
    "fig, ax = plt.subplots()\n",
    "\n",
    "# Create the histogram\n",
    "#Add your code here\n",
    "ax.hist(boot_se_samples, bins=30, edgecolor='black', alpha=0.7)\n",
    "\n",
    "# Add a title\n",
    "#Add your code here\n",
    "ax.set_title('Histogram of Bootstrapped Sample Means of Sepal.Length')\n",
    "\n",
    "# Add a label to the x-axis\n",
    "#Add your code here\n",
    "ax.set_xlabel('Bootstrapped Sample Mean of Sepal.Length')\n",
    "\n",
    "# Add a label to the y-axis\n",
    "#Add your code here\n",
    "ax.set_ylabel('Frequency')\n",
    "\n",
    "# Show the plot\n",
    "plt.show()"
   ]
  },
  {
   "cell_type": "markdown",
   "id": "bfa9a095-9c7a-4ab5-aa99-b11bf419fae0",
   "metadata": {},
   "source": [
    "_(x)_ Given your bootstrapped analysis, what do you recommend to shipping company? "
   ]
  },
  {
   "cell_type": "code",
   "execution_count": null,
   "id": "5e83202e-4aab-44bb-8586-5d0e82e9e201",
   "metadata": {},
   "outputs": [],
   "source": [
    "# Write your answer here\n",
    "#Let's use the average length of sepals we found from measuring iris flowers. This average tells us how long most sepals are. With this information, we can plan how much space each type of iris flower needs on our shipment. By doing this, we can make sure we use the cargo space efficiently and fit as many flowers as possible, which helps us make the most profit from each shipment.\n"
   ]
  },
  {
   "cell_type": "markdown",
   "id": "466943e8",
   "metadata": {},
   "source": [
    "# Criteria\n",
    "\n",
    "|Criteria            |Complete           |Incomplete          |\n",
    "|--------------------|---------------|--------------|\n",
    "|Bootstrapping|All steps are done correctly and the answers are correct.|At least one step is done incorrectly leading to a wrong answer.|"
   ]
  },
  {
   "cell_type": "markdown",
   "id": "68b8a226",
   "metadata": {},
   "source": [
    "## Submission Information\n",
    "\n",
    "🚨 **Please review our [Assignment Submission Guide](https://github.com/UofT-DSI/onboarding/blob/main/onboarding_documents/submissions.md)** 🚨 for detailed instructions on how to format, branch, and submit your work. Following these guidelines is crucial for your submissions to be evaluated correctly.\n",
    "\n",
    "### Note:\n",
    "\n",
    "If you like, you may collaborate with others in the cohort. If you choose to do so, please indicate with whom you have worked with in your pull request by tagging their GitHub username. Separate submissions are required.\n",
    "\n",
    "\n",
    "### Submission Parameters:\n",
    "* Submission Due Date: `HH:MM AM/PM - DD/MM/YYYY`\n",
    "* The branch name for your repo should be: `assignment-3`\n",
    "* What to submit for this assignment:\n",
    "    * This Jupyter Notebook (assignment_3.ipynb) should be populated and should be the only change in your pull request.\n",
    "* What the pull request link should look like for this assignment: `https://github.com/<your_github_username>/applying_statistical_concepts/pull/<pr_id>`\n",
    "    * Open a private window in your browser. Copy and paste the link to your pull request into the address bar. Make sure you can see your pull request properly. This helps the technical facilitator and learning support staff review your submission easily.\n",
    "\n",
    "Checklist:\n",
    "- [ ] Created a branch with the correct naming convention.\n",
    "- [ ] Ensured that the repository is public.\n",
    "- [ ] Reviewed the PR description guidelines and adhered to them.\n",
    "- [ ] Verify that the link is accessible in a private browser window.\n",
    "\n",
    "If you encounter any difficulties or have questions, please don't hesitate to reach out to our team via our Slack at `#cohort-3-help`. Our Technical Facilitators and Learning Support staff are here to help you navigate any challenges.\n"
   ]
  }
 ],
 "metadata": {
  "kernelspec": {
   "display_name": "Python 3.10.4",
   "language": "python",
   "name": "python3"
  },
  "language_info": {
   "codemirror_mode": {
    "name": "ipython",
    "version": 3
   },
   "file_extension": ".py",
   "mimetype": "text/x-python",
   "name": "python",
   "nbconvert_exporter": "python",
   "pygments_lexer": "ipython3",
   "version": "3.9.15"
  },
  "vscode": {
   "interpreter": {
    "hash": "497a84dc8fec8cf8d24e7e87b6d954c9a18a327edc66feb9b9ea7e9e72cc5c7e"
   }
  }
 },
 "nbformat": 4,
 "nbformat_minor": 5
}
